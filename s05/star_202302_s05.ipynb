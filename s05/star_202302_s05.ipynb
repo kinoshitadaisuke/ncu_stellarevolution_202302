{
 "cells": [
  {
   "cell_type": "markdown",
   "id": "25facdb2-4fc1-4bff-9d7c-ab0a11345293",
   "metadata": {},
   "source": [
    "# Stellar Formation and Evolution #\n",
    "\n",
    "## 2nd semester, academic year 2022 ##\n",
    "\n",
    "## from Feb/2023 to Jun/2023 ##\n",
    "\n",
    "## Kinoshita Daisuke ##\n",
    "\n",
    "## 21/Mar/2023 ##"
   ]
  },
  {
   "cell_type": "markdown",
   "id": "08484f78-60c8-4150-a42d-9cf8641ec115",
   "metadata": {},
   "source": [
    "## sample Python script 00 ##"
   ]
  },
  {
   "cell_type": "code",
   "execution_count": null,
   "id": "674b03dc-3419-43b9-8b87-ca18cd30777a",
   "metadata": {},
   "outputs": [],
   "source": [
    "# run this cell to show the source code #\n",
    "\n",
    "!cat star_202302_s05_00.py"
   ]
  },
  {
   "cell_type": "code",
   "execution_count": null,
   "id": "a91a5f6b-d781-4f03-a1a6-5e07ec79fdf9",
   "metadata": {},
   "outputs": [],
   "source": [
    "# run this cell to execute the script #\n",
    "\n",
    "!python3.9 star_202302_s05_00.py"
   ]
  },
  {
   "cell_type": "markdown",
   "id": "e788363f-8c05-41c7-a76f-24a810341f93",
   "metadata": {},
   "source": [
    "## sample Python script 01 ##"
   ]
  },
  {
   "cell_type": "code",
   "execution_count": null,
   "id": "02cb55ef-bd0b-4b13-a9a7-8043fb2d8787",
   "metadata": {},
   "outputs": [],
   "source": [
    "# run this cell to show the source code #\n",
    "\n",
    "!cat star_202302_s05_01.py"
   ]
  },
  {
   "cell_type": "code",
   "execution_count": null,
   "id": "cc0fa73a-148a-4e1e-983f-726a23d33230",
   "metadata": {},
   "outputs": [],
   "source": [
    "# run this cell to execute the script #\n",
    "\n",
    "!python3.9 star_202302_s05_01.py"
   ]
  },
  {
   "cell_type": "markdown",
   "id": "7256f3bc-9627-481f-b33a-bd5c2805349a",
   "metadata": {},
   "source": [
    "## sample Python script 02 ##"
   ]
  },
  {
   "cell_type": "code",
   "execution_count": null,
   "id": "e90631ce-18d5-4ae2-a787-b5dbb64f2e6b",
   "metadata": {},
   "outputs": [],
   "source": [
    "# run this cell to show the source code #\n",
    "\n",
    "!cat star_202302_s05_02.py"
   ]
  },
  {
   "cell_type": "code",
   "execution_count": null,
   "id": "c5bff5f8-7acf-4c03-946a-1568e7b78712",
   "metadata": {},
   "outputs": [],
   "source": [
    "# run this cell to execute the script #\n",
    "\n",
    "!python3.9 star_202302_s05_02.py"
   ]
  },
  {
   "cell_type": "markdown",
   "id": "3379cf4a-0c9d-4e9a-93b8-91d17d678e61",
   "metadata": {},
   "source": [
    "## sample Python script 03 ##"
   ]
  },
  {
   "cell_type": "code",
   "execution_count": null,
   "id": "9e1ae856-8da3-4c43-b4a2-63535c45aca2",
   "metadata": {},
   "outputs": [],
   "source": [
    "# run this cell to show the source code #\n",
    "\n",
    "!cat star_202302_s05_03.py"
   ]
  },
  {
   "cell_type": "code",
   "execution_count": null,
   "id": "767e8ef1-5f5d-488c-8836-b41e78b4cddb",
   "metadata": {},
   "outputs": [],
   "source": [
    "# run this cell to execute the script #\n",
    "\n",
    "!python3.9 star_202302_s05_03.py"
   ]
  },
  {
   "cell_type": "markdown",
   "id": "d0be86db-866a-4c71-84dd-17dc7bc4ce5d",
   "metadata": {},
   "source": [
    "## sample Python script 04 ##"
   ]
  },
  {
   "cell_type": "code",
   "execution_count": null,
   "id": "4a75b0b4-0300-4e38-a085-5f0d95e954f0",
   "metadata": {},
   "outputs": [],
   "source": [
    "# run this cell to show the source code #\n",
    "\n",
    "!cat star_202302_s05_04.py"
   ]
  },
  {
   "cell_type": "code",
   "execution_count": null,
   "id": "babef84a-68d9-477f-aeea-ed2d8b14ecda",
   "metadata": {},
   "outputs": [],
   "source": [
    "# run this cell to execute the script #\n",
    "\n",
    "!python3.9 star_202302_s05_04.py"
   ]
  },
  {
   "cell_type": "markdown",
   "id": "3eaa15dc-2bed-43cf-81b6-a332191679b9",
   "metadata": {},
   "source": [
    "## sample Python script 05 ##"
   ]
  },
  {
   "cell_type": "code",
   "execution_count": null,
   "id": "3dfce316-2b3d-4cf1-88f1-8eb05912ab02",
   "metadata": {},
   "outputs": [],
   "source": [
    "# run this cell to show the source code #\n",
    "\n",
    "!cat star_202302_s05_05.py"
   ]
  },
  {
   "cell_type": "code",
   "execution_count": null,
   "id": "83436ea3-926b-4ce4-9413-3cb81dc2e393",
   "metadata": {},
   "outputs": [],
   "source": [
    "# run this cell to execute the script #\n",
    "\n",
    "!python3.9 star_202302_s05_05.py"
   ]
  },
  {
   "cell_type": "markdown",
   "id": "75449fca-af27-43d3-b90a-846eaf30364f",
   "metadata": {},
   "source": [
    "# enf of this notebook #"
   ]
  },
  {
   "cell_type": "code",
   "execution_count": null,
   "id": "491fea9f-210a-4f61-94cf-f06db2ad6545",
   "metadata": {},
   "outputs": [],
   "source": []
  }
 ],
 "metadata": {
  "kernelspec": {
   "display_name": "Python 3 (ipykernel)",
   "language": "python",
   "name": "python3"
  },
  "language_info": {
   "codemirror_mode": {
    "name": "ipython",
    "version": 3
   },
   "file_extension": ".py",
   "mimetype": "text/x-python",
   "name": "python",
   "nbconvert_exporter": "python",
   "pygments_lexer": "ipython3",
   "version": "3.9.14"
  }
 },
 "nbformat": 4,
 "nbformat_minor": 5
}
