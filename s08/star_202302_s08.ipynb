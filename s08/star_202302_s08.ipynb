{
 "cells": [
  {
   "cell_type": "markdown",
   "id": "7510e7dd-b917-454c-a921-75e20d34cb16",
   "metadata": {},
   "source": [
    "# Stellar Formation and Evolution #\n",
    "\n",
    "## 2nd semester, academic year 2022 ##\n",
    "\n",
    "## from Feb/2023 to Jun/2023 ##\n",
    "\n",
    "## Session 08: Solving Lane-Emden equation numerically ##\n",
    "\n",
    "## Kinoshita Daisuke ##\n",
    "\n",
    "## 18/Apr/2023 ##"
   ]
  },
  {
   "cell_type": "markdown",
   "id": "f4aa861d-46ea-4f82-8510-34aa6c5c06e3",
   "metadata": {},
   "source": [
    "## 1. Solving dy/dx = -ky numerically ##"
   ]
  },
  {
   "cell_type": "markdown",
   "id": "4b511f74-bc7a-4f88-841e-7286a0c88bfb",
   "metadata": {
    "tags": []
   },
   "source": [
    "### 1.1 Solving dy/dx = -ky using SciPy ###"
   ]
  },
  {
   "cell_type": "code",
   "execution_count": null,
   "id": "c9b873f6-3e31-4f51-8825-eadf254128d0",
   "metadata": {},
   "outputs": [],
   "source": [
    "# run this cell to show the source code of the script #\n",
    "\n",
    "!cat simple_00.py"
   ]
  },
  {
   "cell_type": "code",
   "execution_count": null,
   "id": "ed1220a1-286d-4e2c-a371-9237c9ed1986",
   "metadata": {},
   "outputs": [],
   "source": [
    "# run this cell to execute the script #\n",
    "\n",
    "!python3.9 simple_00.py"
   ]
  },
  {
   "cell_type": "markdown",
   "id": "ebab5671-1518-405f-8cde-bc45e0021562",
   "metadata": {},
   "source": [
    "### 1.2 Solving dy/dx = -ky using SciPy and plotting the result ###"
   ]
  },
  {
   "cell_type": "code",
   "execution_count": null,
   "id": "9d43a5df-5a2f-4698-aaff-fe173d811a99",
   "metadata": {},
   "outputs": [],
   "source": [
    "# run this cell to show the source code of the script #\n",
    "\n",
    "!cat simple_01.py"
   ]
  },
  {
   "cell_type": "code",
   "execution_count": null,
   "id": "d56e5ef8-fa85-4993-9dc0-0d7df7794451",
   "metadata": {},
   "outputs": [],
   "source": [
    "# run this cell to execute the script #\n",
    "\n",
    "!python3.9 simple_01.py"
   ]
  },
  {
   "cell_type": "code",
   "execution_count": null,
   "id": "5ef6ffe2-e1d9-4c21-bf26-a6de7c0013d2",
   "metadata": {},
   "outputs": [],
   "source": [
    "# run this cell to display the image #\n",
    "\n",
    "import IPython.display\n",
    "\n",
    "IPython.display.Image ('simple_01.png')"
   ]
  },
  {
   "cell_type": "markdown",
   "id": "6fd44f11-3dad-44a9-ab84-1800c8969123",
   "metadata": {
    "tags": []
   },
   "source": [
    "### 1.3 Calculating analytical solution ###"
   ]
  },
  {
   "cell_type": "code",
   "execution_count": null,
   "id": "1b454c92-d124-4642-8f36-d15162d49a60",
   "metadata": {},
   "outputs": [],
   "source": [
    "# run this cell to show the source code of the script #\n",
    "\n",
    "!cat simple_02.py"
   ]
  },
  {
   "cell_type": "code",
   "execution_count": null,
   "id": "6b503d4d-b8f7-452e-b8ce-fbd1d4b56123",
   "metadata": {},
   "outputs": [],
   "source": [
    "# run this cell to execute the script #\n",
    "\n",
    "!python3.9 simple_02.py"
   ]
  },
  {
   "cell_type": "markdown",
   "id": "f62796ff-edb6-4e3b-a961-e2f066eed31c",
   "metadata": {},
   "source": [
    "### 1.4 Solving dy/dx = -ky using SciPy and plotting the numerical and analytical solutions ###"
   ]
  },
  {
   "cell_type": "code",
   "execution_count": null,
   "id": "043c33b7-f693-42b7-bf91-1637e890a654",
   "metadata": {},
   "outputs": [],
   "source": [
    "# run this cell to show the source code of the script #\n",
    "\n",
    "!cat simple_03.py"
   ]
  },
  {
   "cell_type": "code",
   "execution_count": null,
   "id": "6e9aeeff-7482-48ac-bae5-3955f5d0ae42",
   "metadata": {},
   "outputs": [],
   "source": [
    "# run this cell to execute the script #\n",
    "\n",
    "!python3.9 simple_03.py"
   ]
  },
  {
   "cell_type": "code",
   "execution_count": null,
   "id": "c4a800b1-b22f-45b4-8eb2-f86dd679c5da",
   "metadata": {},
   "outputs": [],
   "source": [
    "# run this cell to display the image #\n",
    "\n",
    "import IPython.display\n",
    "\n",
    "IPython.display.Image ('simple_03.png')"
   ]
  },
  {
   "cell_type": "markdown",
   "id": "6ed1fd32-42e2-46dc-87c7-21accdda4719",
   "metadata": {},
   "source": [
    "### 1.5 Solving dy/dx = -ky using SciPy and plotting the numerical and analytical solutions using log-scale ###"
   ]
  },
  {
   "cell_type": "code",
   "execution_count": null,
   "id": "1aed486a-fc97-48ec-8f21-f07192b100d7",
   "metadata": {},
   "outputs": [],
   "source": [
    "# run this cell to show the source code of the script #\n",
    "\n",
    "!cat simple_04.py"
   ]
  },
  {
   "cell_type": "code",
   "execution_count": null,
   "id": "21ecd609-b144-4090-81cb-4feff1987e26",
   "metadata": {},
   "outputs": [],
   "source": [
    "# run this cell to execute the script #\n",
    "\n",
    "!python3.9 simple_04.py"
   ]
  },
  {
   "cell_type": "code",
   "execution_count": null,
   "id": "9b4306fb-19da-49bf-bc25-61609bc2a404",
   "metadata": {},
   "outputs": [],
   "source": [
    "# run this cell to display the image #\n",
    "\n",
    "import IPython.display\n",
    "\n",
    "IPython.display.Image ('simple_04.png')"
   ]
  },
  {
   "cell_type": "markdown",
   "id": "f79d07f4-0682-41b0-a867-76fa24659561",
   "metadata": {},
   "source": [
    "### 1.6 Changing the initial condition ###"
   ]
  },
  {
   "cell_type": "code",
   "execution_count": null,
   "id": "25dc7a78-9219-42f4-a648-11e0d7d0c0f4",
   "metadata": {},
   "outputs": [],
   "source": [
    "# run this cell to show the source code of the script #\n",
    "\n",
    "!cat simple_05.py"
   ]
  },
  {
   "cell_type": "code",
   "execution_count": null,
   "id": "45f24fbc-7b78-45ff-90f6-39416b4f79d3",
   "metadata": {},
   "outputs": [],
   "source": [
    "# run this cell to execute the script #\n",
    "\n",
    "!python3.9 simple_05.py"
   ]
  },
  {
   "cell_type": "code",
   "execution_count": null,
   "id": "28b6f661-a943-4bb9-ae86-dba19e94c335",
   "metadata": {},
   "outputs": [],
   "source": [
    "# run this cell to display the image #\n",
    "\n",
    "import IPython.display\n",
    "\n",
    "IPython.display.Image ('simple_05.png')"
   ]
  },
  {
   "cell_type": "markdown",
   "id": "e5f685fa-3453-48d8-983e-18169c3679a2",
   "metadata": {},
   "source": [
    "## Velocity change of a thrown ball ##"
   ]
  },
  {
   "cell_type": "markdown",
   "id": "4d34332d-178d-4585-ae1c-6cc1896cf0b9",
   "metadata": {},
   "source": [
    "### 2.1 Obtaining a physical constant ###"
   ]
  },
  {
   "cell_type": "code",
   "execution_count": null,
   "id": "c69f73d7-3c07-4e24-a646-cd464d128e17",
   "metadata": {},
   "outputs": [],
   "source": [
    "# run this cell to show the source code of the script #\n",
    "\n",
    "!cat velocity_00.py"
   ]
  },
  {
   "cell_type": "code",
   "execution_count": null,
   "id": "62442948-37dc-4f01-ba69-94218e10c22f",
   "metadata": {},
   "outputs": [],
   "source": [
    "# run this cell to execute the script #\n",
    "\n",
    "!python3.9 velocity_00.py"
   ]
  },
  {
   "cell_type": "markdown",
   "id": "5584c250-9d3e-4e59-a3e4-0303df54a39e",
   "metadata": {},
   "source": [
    "### 2.2 Obtaining a physical constant and printing the value ###"
   ]
  },
  {
   "cell_type": "code",
   "execution_count": null,
   "id": "fda1c6da-e852-4a74-b5a3-61d25ff2e0fb",
   "metadata": {},
   "outputs": [],
   "source": [
    "# run this cell to show the source code of the script #\n",
    "\n",
    "!cat velocity_01.py"
   ]
  },
  {
   "cell_type": "code",
   "execution_count": null,
   "id": "f6aba177-adfd-4056-ac44-566a0c04e180",
   "metadata": {},
   "outputs": [],
   "source": [
    "# run this cell to execute the script #\n",
    "\n",
    "!python3.9 velocity_01.py"
   ]
  },
  {
   "cell_type": "markdown",
   "id": "3699f3fe-a3ec-4b9e-aacf-190e996712f8",
   "metadata": {},
   "source": [
    "### 2.3 Solving 1-dim. equation of motion ###"
   ]
  },
  {
   "cell_type": "code",
   "execution_count": null,
   "id": "bd27c265-5ee5-4cb7-9cc9-0219012bd4a7",
   "metadata": {},
   "outputs": [],
   "source": [
    "# run this cell to show the source code of the script #\n",
    "\n",
    "!cat velocity_02.py"
   ]
  },
  {
   "cell_type": "code",
   "execution_count": null,
   "id": "9970a21a-4750-481e-865e-e0dd3b2e575f",
   "metadata": {},
   "outputs": [],
   "source": [
    "# run this cell to execute the script #\n",
    "\n",
    "!python3.9 velocity_02.py"
   ]
  },
  {
   "cell_type": "markdown",
   "id": "60b11553-6968-4b84-ac83-9768d19943f8",
   "metadata": {},
   "source": [
    "### 2.4 Solving 1-dim. equation of motion and plotting the result ###"
   ]
  },
  {
   "cell_type": "code",
   "execution_count": null,
   "id": "c3dd4aca-de36-40ab-ab1a-fdf29f22bb7c",
   "metadata": {},
   "outputs": [],
   "source": [
    "# run this cell to show the source code of the script #\n",
    "\n",
    "!cat velocity_03.py"
   ]
  },
  {
   "cell_type": "code",
   "execution_count": null,
   "id": "3c406e3f-23d0-4d09-95b8-358e314187e4",
   "metadata": {},
   "outputs": [],
   "source": [
    "# run this cell to execute the script #\n",
    "\n",
    "!python3.9 velocity_03.py"
   ]
  },
  {
   "cell_type": "code",
   "execution_count": null,
   "id": "c10215cf-bc00-4cba-bffe-31104ec20271",
   "metadata": {},
   "outputs": [],
   "source": [
    "# run this cell to display the image #\n",
    "\n",
    "import IPython.display\n",
    "\n",
    "IPython.display.Image ('velocity_03.png')"
   ]
  },
  {
   "cell_type": "markdown",
   "id": "f78f7063-84fa-40af-a382-a89370ec742e",
   "metadata": {},
   "source": [
    "### 2.4 Solving 1-dim. equation of motion and plotting the numerical and analytical solutions ###"
   ]
  },
  {
   "cell_type": "code",
   "execution_count": null,
   "id": "72b9850c-4bd0-4c1a-9c7d-19c36102eafa",
   "metadata": {},
   "outputs": [],
   "source": [
    "# run this cell to show the source code of the script #\n",
    "\n",
    "!cat velocity_04.py"
   ]
  },
  {
   "cell_type": "code",
   "execution_count": null,
   "id": "bfe3fb43-e1fd-4cf8-bc85-c4750a6245ad",
   "metadata": {},
   "outputs": [],
   "source": [
    "# run this cell to execute the script #\n",
    "\n",
    "!python3.9 velocity_04.py"
   ]
  },
  {
   "cell_type": "code",
   "execution_count": null,
   "id": "ba857d85-6903-4c49-b9db-e3edebeb184e",
   "metadata": {
    "tags": []
   },
   "outputs": [],
   "source": [
    "# run this cell to display the image #\n",
    "\n",
    "import IPython.display\n",
    "\n",
    "IPython.display.Image ('velocity_04.png')"
   ]
  },
  {
   "cell_type": "markdown",
   "id": "175e8247-2927-40b6-80c2-33fa9ddd8578",
   "metadata": {},
   "source": [
    "## 3. Height of a thrown ball ##"
   ]
  },
  {
   "cell_type": "markdown",
   "id": "0e1fa0ee-d5e6-4100-9e43-0c3a7e08c50f",
   "metadata": {},
   "source": [
    "### 3.1 Solving a 2nd order differential equation ###"
   ]
  },
  {
   "cell_type": "code",
   "execution_count": null,
   "id": "38699505-4a95-47f6-8f72-2d970f376ad3",
   "metadata": {},
   "outputs": [],
   "source": [
    "# run this cell to show the source code of the script #\n",
    "\n",
    "!cat position_00.py"
   ]
  },
  {
   "cell_type": "code",
   "execution_count": null,
   "id": "38e5ccd6-46d8-4ea0-808e-b2d09713f5b9",
   "metadata": {},
   "outputs": [],
   "source": [
    "# run this cell to execute the script #\n",
    "\n",
    "!python3.9 position_00.py"
   ]
  },
  {
   "cell_type": "code",
   "execution_count": null,
   "id": "efcac8a4-a269-43bb-89f1-f0016e562239",
   "metadata": {
    "tags": []
   },
   "outputs": [],
   "source": [
    "# run this cell to display the image #\n",
    "\n",
    "import IPython.display\n",
    "\n",
    "IPython.display.Image ('position_00.png')"
   ]
  },
  {
   "cell_type": "markdown",
   "id": "6aa95828-537a-4546-9eee-cf4511aee88a",
   "metadata": {},
   "source": [
    "### 3.2 Comparison of numerical and analytical solutions ###"
   ]
  },
  {
   "cell_type": "code",
   "execution_count": null,
   "id": "0625f12f-fd1c-4798-a4a2-d6c828ad0b51",
   "metadata": {},
   "outputs": [],
   "source": [
    "# run this cell to show the source code of the script #\n",
    "\n",
    "!cat position_01.py"
   ]
  },
  {
   "cell_type": "code",
   "execution_count": null,
   "id": "bbe8d149-1d2a-4d2a-93a9-cba19d73db86",
   "metadata": {},
   "outputs": [],
   "source": [
    "# run this cell to execute the script #\n",
    "\n",
    "!python3.9 position_01.py"
   ]
  },
  {
   "cell_type": "code",
   "execution_count": null,
   "id": "19cd7fcd-a34d-45a3-b29f-eb4eb12ff7c6",
   "metadata": {
    "tags": []
   },
   "outputs": [],
   "source": [
    "# run this cell to display the image #\n",
    "\n",
    "import IPython.display\n",
    "\n",
    "IPython.display.Image ('position_01.png')"
   ]
  },
  {
   "cell_type": "markdown",
   "id": "dfceb20a-56fa-4252-a6bc-6f9d8a4e775b",
   "metadata": {},
   "source": [
    "## 4. Trajectory of a thrown ball ##"
   ]
  },
  {
   "cell_type": "markdown",
   "id": "073aa167-4249-4e4e-9de2-6d7a88151cdd",
   "metadata": {},
   "source": [
    "### 4.1 Solving a 2-dim. equation of motion ###"
   ]
  },
  {
   "cell_type": "code",
   "execution_count": null,
   "id": "d9043bdd-6dc0-4738-b827-cf03efd4cdd7",
   "metadata": {},
   "outputs": [],
   "source": [
    "# run this cell to show the source code of the script #\n",
    "\n",
    "!cat trajectory_00.py"
   ]
  },
  {
   "cell_type": "code",
   "execution_count": null,
   "id": "2502b0f0-4cc4-4966-9f5a-63bd5a08bf95",
   "metadata": {},
   "outputs": [],
   "source": [
    "# run this cell to execute the script #\n",
    "\n",
    "!python3.9 trajectory_00.py"
   ]
  },
  {
   "cell_type": "code",
   "execution_count": null,
   "id": "7c747667-7c71-4ddc-bd65-3dd50fc40d2a",
   "metadata": {
    "tags": []
   },
   "outputs": [],
   "source": [
    "# run this cell to display the image #\n",
    "\n",
    "import IPython.display\n",
    "\n",
    "IPython.display.Image ('trajectory_00.png')"
   ]
  },
  {
   "cell_type": "markdown",
   "id": "627b137e-fbfb-4218-a738-6ac2d0405e0d",
   "metadata": {},
   "source": [
    "### 4.2 Comparing numerical and analytical solutions ###"
   ]
  },
  {
   "cell_type": "code",
   "execution_count": null,
   "id": "e7bfb839-f990-4163-80ac-91129e607bc5",
   "metadata": {},
   "outputs": [],
   "source": [
    "# run this cell to show the source code of the script #\n",
    "\n",
    "!cat trajectory_01.py"
   ]
  },
  {
   "cell_type": "code",
   "execution_count": null,
   "id": "bdaef1c5-4a1e-4ebd-a4d4-cfd17a183dae",
   "metadata": {},
   "outputs": [],
   "source": [
    "# run this cell to execute the script #\n",
    "\n",
    "!python3.9 trajectory_01.py"
   ]
  },
  {
   "cell_type": "code",
   "execution_count": null,
   "id": "0d9a1193-f8bf-4430-a9ee-a730581e9996",
   "metadata": {
    "tags": []
   },
   "outputs": [],
   "source": [
    "# run this cell to display the image #\n",
    "\n",
    "import IPython.display\n",
    "\n",
    "IPython.display.Image ('trajectory_01.png')"
   ]
  },
  {
   "cell_type": "markdown",
   "id": "f8dce5af-23ca-41dc-add0-08f3085aca61",
   "metadata": {},
   "source": [
    "### 4.3 Throwing a ball to elevation angle of 30 deg ###"
   ]
  },
  {
   "cell_type": "code",
   "execution_count": null,
   "id": "84343342-edcc-48b4-aa2d-0d6694745760",
   "metadata": {},
   "outputs": [],
   "source": [
    "# run this cell to show the source code of the script #\n",
    "\n",
    "!cat trajectory_02.py"
   ]
  },
  {
   "cell_type": "code",
   "execution_count": null,
   "id": "34019823-af57-4bc6-99ae-77093933338f",
   "metadata": {},
   "outputs": [],
   "source": [
    "# run this cell to execute the script #\n",
    "\n",
    "!python3.9 trajectory_02.py"
   ]
  },
  {
   "cell_type": "code",
   "execution_count": null,
   "id": "110cb173-e388-48c0-bf50-a23fc905184d",
   "metadata": {
    "tags": []
   },
   "outputs": [],
   "source": [
    "# run this cell to display the image #\n",
    "\n",
    "import IPython.display\n",
    "\n",
    "IPython.display.Image ('trajectory_02.png')"
   ]
  },
  {
   "cell_type": "markdown",
   "id": "beb06a41-eeb6-4ce1-b08e-0ca2ac3261dd",
   "metadata": {},
   "source": [
    "### 4.4 Throwing a ball to elevation angle of 45 deg ###"
   ]
  },
  {
   "cell_type": "code",
   "execution_count": null,
   "id": "059e8fc6-4b22-400c-b357-c2edc52ecfdf",
   "metadata": {},
   "outputs": [],
   "source": [
    "# run this cell to show the source code of the script #\n",
    "\n",
    "!cat trajectory_03.py"
   ]
  },
  {
   "cell_type": "code",
   "execution_count": null,
   "id": "c13a686c-d91e-4098-850f-e3274fca6f28",
   "metadata": {},
   "outputs": [],
   "source": [
    "# run this cell to execute the script #\n",
    "\n",
    "!python3.9 trajectory_03.py"
   ]
  },
  {
   "cell_type": "code",
   "execution_count": null,
   "id": "394845e3-0250-4f1f-aacc-92a232d14386",
   "metadata": {
    "tags": []
   },
   "outputs": [],
   "source": [
    "# run this cell to display the image #\n",
    "\n",
    "import IPython.display\n",
    "\n",
    "IPython.display.Image ('trajectory_03.png')"
   ]
  },
  {
   "cell_type": "markdown",
   "id": "bdf73f6b-c9d6-49a1-bc33-a9c1299e025b",
   "metadata": {},
   "source": [
    "### 4.5 Throwing a ball to elevation angle of 60 deg ###"
   ]
  },
  {
   "cell_type": "code",
   "execution_count": null,
   "id": "3ae0d1f9-a755-4658-b493-f421dd34919c",
   "metadata": {},
   "outputs": [],
   "source": [
    "# run this cell to show the source code of the script #\n",
    "\n",
    "!cat trajectory_03.py"
   ]
  },
  {
   "cell_type": "code",
   "execution_count": null,
   "id": "3f7beddc-efd5-4c60-be15-001458673ce3",
   "metadata": {},
   "outputs": [],
   "source": [
    "# run this cell to execute the script #\n",
    "\n",
    "!python3.9 trajectory_03.py"
   ]
  },
  {
   "cell_type": "code",
   "execution_count": null,
   "id": "ce7e8b63-b820-419f-98fd-5a7c91469ddd",
   "metadata": {
    "tags": []
   },
   "outputs": [],
   "source": [
    "# run this cell to display the image #\n",
    "\n",
    "import IPython.display\n",
    "\n",
    "IPython.display.Image ('trajectory_03.png')"
   ]
  },
  {
   "cell_type": "markdown",
   "id": "764b637f-7036-4e34-894f-23753c453ee5",
   "metadata": {},
   "source": [
    "## 5. Finding a planetary motion ##"
   ]
  },
  {
   "cell_type": "markdown",
   "id": "685e67b4-51e8-4f90-ab67-378b4697d99c",
   "metadata": {},
   "source": [
    "### 5.1 Circular orbit ###"
   ]
  },
  {
   "cell_type": "code",
   "execution_count": null,
   "id": "4e3512ae-a423-41a6-8dd2-c38d94200cc8",
   "metadata": {},
   "outputs": [],
   "source": [
    "# run this cell to show the source code of the script #\n",
    "\n",
    "!cat planetary_motion.py"
   ]
  },
  {
   "cell_type": "code",
   "execution_count": null,
   "id": "5d7f5f29-aaa5-4abb-80c4-350d465b04fc",
   "metadata": {},
   "outputs": [],
   "source": [
    "# run this cell to execute the script #\n",
    "\n",
    "!python3.9 planetary_motion.py -h"
   ]
  },
  {
   "cell_type": "code",
   "execution_count": null,
   "id": "074681fe-f1b1-4f38-afef-14605a74d73c",
   "metadata": {},
   "outputs": [],
   "source": [
    "# run this cell to execute the script #\n",
    "\n",
    "!python3.9 planetary_motion.py -x0 1 -y0 0 -vx0 0 -vy 1 -M 1 -o planet_c"
   ]
  },
  {
   "cell_type": "code",
   "execution_count": null,
   "id": "b2b13cbc-bbb7-4ca8-a767-dc2f1978ef3f",
   "metadata": {},
   "outputs": [],
   "source": [
    "# run this cell to show generated files #\n",
    "\n",
    "!ls -lF planet_c_*.png"
   ]
  },
  {
   "cell_type": "code",
   "execution_count": null,
   "id": "3172f675-9ff6-4586-86c3-dcc93ef0328b",
   "metadata": {},
   "outputs": [],
   "source": [
    "# run this cell to make a movie file #\n",
    "\n",
    "!ffmpeg -f image2 -start_number 0 -framerate 30 -i planet_c_%08d.png -an -vcodec libx264 -pix_fmt yuv420p planet_c.mp4"
   ]
  },
  {
   "cell_type": "code",
   "execution_count": null,
   "id": "cb2a7c18-e794-4506-9167-90cddfce8030",
   "metadata": {},
   "outputs": [],
   "source": [
    "# run this cell to show created movie file #\n",
    "\n",
    "!ls -lF planet_c.mp4"
   ]
  },
  {
   "cell_type": "code",
   "execution_count": null,
   "id": "952f67c2-1233-4b7f-86c4-0dd4c8d213d2",
   "metadata": {},
   "outputs": [],
   "source": [
    "# run this cell to display the plot #\n",
    "\n",
    "import IPython.display\n",
    "\n",
    "IPython.display.Video ('planet_c.mp4')"
   ]
  },
  {
   "cell_type": "markdown",
   "id": "cc2e6bd7-6f79-4a52-a16f-012575849963",
   "metadata": {},
   "source": [
    "### 5.2 Elliptical orbit ###"
   ]
  },
  {
   "cell_type": "code",
   "execution_count": null,
   "id": "99f4bffb-7b35-4f68-91a8-517f8ab0e0ca",
   "metadata": {},
   "outputs": [],
   "source": [
    "# run this cell to execute the script #\n",
    "\n",
    "!python3.9 planetary_motion.py -x0 1 -y0 0 -vx0 0 -vy 1.2 -M 1 -t 30 -o planet_e"
   ]
  },
  {
   "cell_type": "code",
   "execution_count": null,
   "id": "25462ce5-70ab-408a-877d-fb0e9108e844",
   "metadata": {},
   "outputs": [],
   "source": [
    "# run this cell to show generated files #\n",
    "\n",
    "!ls -lF planet_e_*.png"
   ]
  },
  {
   "cell_type": "code",
   "execution_count": null,
   "id": "42ae77ac-0381-43ec-85a2-6c39a6726c44",
   "metadata": {},
   "outputs": [],
   "source": [
    "# run this cell to make a movie file #\n",
    "\n",
    "!ffmpeg -f image2 -start_number 0 -framerate 30 -i planet_e_%08d.png -an -vcodec libx264 -pix_fmt yuv420p planet_e.mp4"
   ]
  },
  {
   "cell_type": "code",
   "execution_count": null,
   "id": "2b9aab33-da08-43d2-8c31-342897333c34",
   "metadata": {},
   "outputs": [],
   "source": [
    "# run this cell to show created movie file #\n",
    "\n",
    "!ls -lF planet_e.mp4"
   ]
  },
  {
   "cell_type": "code",
   "execution_count": null,
   "id": "7fc11c57-16bf-4467-b7d3-1145ce1b1172",
   "metadata": {},
   "outputs": [],
   "source": [
    "# run this cell to display the plot #\n",
    "\n",
    "import IPython.display\n",
    "\n",
    "IPython.display.Video ('planet_e.mp4')"
   ]
  },
  {
   "cell_type": "markdown",
   "id": "43712e4c-aef9-4edf-944c-c06d8a9e3cc9",
   "metadata": {},
   "source": [
    "## 6. Solving Lane-Emden equation numerically ##"
   ]
  },
  {
   "cell_type": "markdown",
   "id": "b6484d36-15f9-49f6-b605-829dee606a20",
   "metadata": {},
   "source": [
    "### 6.1 Solving Lane-Emden equation using SciPy ###"
   ]
  },
  {
   "cell_type": "code",
   "execution_count": null,
   "id": "5ae7b121-8bf1-485d-9cfc-2748dcd5860d",
   "metadata": {},
   "outputs": [],
   "source": [
    "# run this cell to show the source code of the script #\n",
    "\n",
    "!cat laneemden.py"
   ]
  },
  {
   "cell_type": "code",
   "execution_count": null,
   "id": "070aaed3-4ba1-4490-b233-f963c7e32f76",
   "metadata": {},
   "outputs": [],
   "source": [
    "# run this cell to execute the script #\n",
    "\n",
    "!python3.9 laneemden.py -h"
   ]
  },
  {
   "cell_type": "markdown",
   "id": "ee6949fe-9d87-417a-a613-4d33c8938184",
   "metadata": {},
   "source": [
    "#### 6.1.1 Solving Lane-Emden equation of n=0.0 ####"
   ]
  },
  {
   "cell_type": "code",
   "execution_count": null,
   "id": "8d1e7331-3872-4765-9592-9c557bb96a69",
   "metadata": {},
   "outputs": [],
   "source": [
    "# run this cell to execute the script #\n",
    "\n",
    "!python3.9 laneemden.py -n 0.0 -o n00.data"
   ]
  },
  {
   "cell_type": "code",
   "execution_count": null,
   "id": "16da76d5-04f6-466a-b55e-8f6238ae28ba",
   "metadata": {},
   "outputs": [],
   "source": [
    "# showing created file #\n",
    "\n",
    "!ls -lF n??.data"
   ]
  },
  {
   "cell_type": "code",
   "execution_count": null,
   "id": "9ea3a24f-52d1-46e7-b772-68a5a40291ba",
   "metadata": {},
   "outputs": [],
   "source": [
    "# printing created file #\n",
    "\n",
    "!head -20 n00.data"
   ]
  },
  {
   "cell_type": "markdown",
   "id": "16bbf6a8-3184-487f-b05a-0e2ef21f0e6a",
   "metadata": {},
   "source": [
    "#### 6.1.2 Solving Lane-Emden equation of n=0.5 ####"
   ]
  },
  {
   "cell_type": "code",
   "execution_count": null,
   "id": "57bff01a-9b8c-4744-9830-d699c2382036",
   "metadata": {},
   "outputs": [],
   "source": [
    "# run this cell to execute the script #\n",
    "\n",
    "!python3.9 laneemden.py -n 0.5 -o n05.data"
   ]
  },
  {
   "cell_type": "code",
   "execution_count": null,
   "id": "c1de6e4f-d703-409b-93dc-55cd415bfba7",
   "metadata": {},
   "outputs": [],
   "source": [
    "# showing created file #\n",
    "\n",
    "!ls -lF n??.data"
   ]
  },
  {
   "cell_type": "code",
   "execution_count": null,
   "id": "ab2899ad-2160-4e57-a5c4-63c8196dc937",
   "metadata": {},
   "outputs": [],
   "source": [
    "# printing created file #\n",
    "\n",
    "!head -20 n05.data"
   ]
  },
  {
   "cell_type": "markdown",
   "id": "e75c7d90-e3d2-4a23-91ce-29d34354e1e8",
   "metadata": {},
   "source": [
    "#### 6.1.3 Solving Lane-Emden equation of n=1.0 ####"
   ]
  },
  {
   "cell_type": "code",
   "execution_count": null,
   "id": "fb6528b1-d808-48c4-9d98-5197010d05b5",
   "metadata": {},
   "outputs": [],
   "source": [
    "# run this cell to execute the script #\n",
    "\n",
    "!python3.9 laneemden.py -n 1.0 -o n10.data"
   ]
  },
  {
   "cell_type": "code",
   "execution_count": null,
   "id": "68ca2e15-2930-46d6-9b74-a742fa5147fd",
   "metadata": {},
   "outputs": [],
   "source": [
    "# showing created file #\n",
    "\n",
    "!ls -lF n??.data"
   ]
  },
  {
   "cell_type": "code",
   "execution_count": null,
   "id": "f82570ab-8204-46e6-bb7e-9ef2b9e71f25",
   "metadata": {},
   "outputs": [],
   "source": [
    "# printing created file #\n",
    "\n",
    "!head -20 n10.data"
   ]
  },
  {
   "cell_type": "markdown",
   "id": "0fcfd435-e41b-4e74-9488-1851747b3b21",
   "metadata": {},
   "source": [
    "#### 6.1.4 Solving Lane-Emden equation of n=1.5 ####"
   ]
  },
  {
   "cell_type": "code",
   "execution_count": null,
   "id": "c5ae18ea-1035-49cf-b088-03443d74cff4",
   "metadata": {},
   "outputs": [],
   "source": [
    "# run this cell to execute the script #\n",
    "\n",
    "!python3.9 laneemden.py -n 1.5 -o n15.data"
   ]
  },
  {
   "cell_type": "code",
   "execution_count": null,
   "id": "106e989b-0209-4eab-b1cf-c31694f0272c",
   "metadata": {},
   "outputs": [],
   "source": [
    "# showing created file #\n",
    "\n",
    "!ls -lF n??.data"
   ]
  },
  {
   "cell_type": "code",
   "execution_count": null,
   "id": "a49ba6a1-d74d-474e-9562-57d6a7a4587e",
   "metadata": {},
   "outputs": [],
   "source": [
    "# printing created file #\n",
    "\n",
    "!head -20 n15.data"
   ]
  },
  {
   "cell_type": "markdown",
   "id": "9139743a-0fcc-414c-9977-5d8a78464d8a",
   "metadata": {},
   "source": [
    "#### 6.1.5 Solving Lane-Emden equation of n=2.0 ####"
   ]
  },
  {
   "cell_type": "code",
   "execution_count": null,
   "id": "038b5cef-a801-426c-9ca2-dc45b20b1cf6",
   "metadata": {},
   "outputs": [],
   "source": [
    "# run this cell to execute the script #\n",
    "\n",
    "!python3.9 laneemden.py -n 2.0 -o n20.data"
   ]
  },
  {
   "cell_type": "code",
   "execution_count": null,
   "id": "1215e98c-7f35-4d0c-8d9d-83db9839e59d",
   "metadata": {},
   "outputs": [],
   "source": [
    "# showing created file #\n",
    "\n",
    "!ls -lF n??.data"
   ]
  },
  {
   "cell_type": "code",
   "execution_count": null,
   "id": "f79b18be-624b-433b-a28a-306d82110750",
   "metadata": {},
   "outputs": [],
   "source": [
    "# printing created file #\n",
    "\n",
    "!head -20 n20.data"
   ]
  },
  {
   "cell_type": "markdown",
   "id": "31635db7-1b2b-4716-9b84-ee5d8f3a926f",
   "metadata": {},
   "source": [
    "#### 6.1.6 Solving Lane-Emden equation of n=2.5 ####"
   ]
  },
  {
   "cell_type": "code",
   "execution_count": null,
   "id": "7e794206-56b3-4e2a-aa68-17d571040c2b",
   "metadata": {},
   "outputs": [],
   "source": [
    "# run this cell to execute the script #\n",
    "\n",
    "!python3.9 laneemden.py -n 2.5 -o n25.data"
   ]
  },
  {
   "cell_type": "code",
   "execution_count": null,
   "id": "cc1a7de1-ba60-475a-8ba5-6d6c39cd2456",
   "metadata": {},
   "outputs": [],
   "source": [
    "# showing created file #\n",
    "\n",
    "!ls -lF n??.data"
   ]
  },
  {
   "cell_type": "code",
   "execution_count": null,
   "id": "4bf3a8b4-2558-407f-b112-c169302fee40",
   "metadata": {},
   "outputs": [],
   "source": [
    "# printing created file #\n",
    "\n",
    "!head -20 n25.data"
   ]
  },
  {
   "cell_type": "markdown",
   "id": "88984609-3fd1-4a22-a9a8-133a3d62ba76",
   "metadata": {},
   "source": [
    "#### 6.1.7 Solving Lane-Emden equation of n=3.0 ####"
   ]
  },
  {
   "cell_type": "code",
   "execution_count": null,
   "id": "3f501635-d21f-4d77-b6cd-e8880faed022",
   "metadata": {},
   "outputs": [],
   "source": [
    "# run this cell to execute the script #\n",
    "\n",
    "!python3.9 laneemden.py -n 3.0 -o n30.data"
   ]
  },
  {
   "cell_type": "code",
   "execution_count": null,
   "id": "c19149ae-4ec3-4106-bf5c-4909f77c27ee",
   "metadata": {},
   "outputs": [],
   "source": [
    "# showing created file #\n",
    "\n",
    "!ls -lF n??.data"
   ]
  },
  {
   "cell_type": "code",
   "execution_count": null,
   "id": "31054c5e-b179-4462-8c38-1261dcde5d95",
   "metadata": {},
   "outputs": [],
   "source": [
    "# printing created file #\n",
    "\n",
    "!head -20 n30.data"
   ]
  },
  {
   "cell_type": "markdown",
   "id": "127e55fc-7d89-43c4-ba0c-e16cd7774f12",
   "metadata": {},
   "source": [
    "#### 6.1.8 Solving Lane-Emden equation of n=3.5 ####"
   ]
  },
  {
   "cell_type": "code",
   "execution_count": null,
   "id": "d8ed260f-2e70-4aaa-b134-d778d2a13d96",
   "metadata": {},
   "outputs": [],
   "source": [
    "# run this cell to execute the script #\n",
    "\n",
    "!python3.9 laneemden.py -n 3.5 -o n35.data"
   ]
  },
  {
   "cell_type": "code",
   "execution_count": null,
   "id": "f99ef24e-6072-48d5-b289-ff59f3cfbe86",
   "metadata": {},
   "outputs": [],
   "source": [
    "# showing created file #\n",
    "\n",
    "!ls -lF n??.data"
   ]
  },
  {
   "cell_type": "code",
   "execution_count": null,
   "id": "3addac3a-0e04-4a4e-8558-de9bde0c13ab",
   "metadata": {},
   "outputs": [],
   "source": [
    "# printing created file #\n",
    "\n",
    "!head -20 n35.data"
   ]
  },
  {
   "cell_type": "markdown",
   "id": "be9d4473-68c3-4f35-a8a1-9031495073c8",
   "metadata": {},
   "source": [
    "#### 6.1.9 Solving Lane-Emden equation of n=4.0 ####"
   ]
  },
  {
   "cell_type": "code",
   "execution_count": null,
   "id": "13f37760-6b13-4961-b0ac-be8cdce501c5",
   "metadata": {},
   "outputs": [],
   "source": [
    "# run this cell to execute the script #\n",
    "\n",
    "!python3.9 laneemden.py -n 4.0 -o n40.data"
   ]
  },
  {
   "cell_type": "code",
   "execution_count": null,
   "id": "a707db91-0d32-4d19-979b-1e335ad332c9",
   "metadata": {},
   "outputs": [],
   "source": [
    "# showing created file #\n",
    "\n",
    "!ls -lF n??.data"
   ]
  },
  {
   "cell_type": "code",
   "execution_count": null,
   "id": "fac4554d-df11-4d78-bcb1-4402a7001588",
   "metadata": {},
   "outputs": [],
   "source": [
    "# printing created file #\n",
    "\n",
    "!head -20 n40.data"
   ]
  },
  {
   "cell_type": "markdown",
   "id": "4823df29-03d6-48d5-8f03-9aa98c7dd742",
   "metadata": {},
   "source": [
    "#### 6.1.10 Solving Lane-Emden equation of n=4.5 ####"
   ]
  },
  {
   "cell_type": "code",
   "execution_count": null,
   "id": "25e6c6c5-ba60-40ec-81e5-3d4ca67c4fa2",
   "metadata": {},
   "outputs": [],
   "source": [
    "# run this cell to execute the script #\n",
    "\n",
    "!python3.9 laneemden.py -n 4.5 -o n45.data"
   ]
  },
  {
   "cell_type": "code",
   "execution_count": null,
   "id": "41b83a12-764e-4e30-a2c2-6d3ee79d9c58",
   "metadata": {},
   "outputs": [],
   "source": [
    "# showing created file #\n",
    "\n",
    "!ls -lF n??.data"
   ]
  },
  {
   "cell_type": "code",
   "execution_count": null,
   "id": "9ba4e2af-e72d-4d4d-b739-3b2cee3865be",
   "metadata": {},
   "outputs": [],
   "source": [
    "# printing created file #\n",
    "\n",
    "!head -20 n45.data"
   ]
  },
  {
   "cell_type": "markdown",
   "id": "1511ee66-47e8-4dbf-b2ee-ba600a7110bb",
   "metadata": {},
   "source": [
    "### 6.2 Making plots ###"
   ]
  },
  {
   "cell_type": "code",
   "execution_count": null,
   "id": "58425533-88e1-40e7-9c27-6decfc4f84fe",
   "metadata": {},
   "outputs": [],
   "source": [
    "# run this cell to show the source code of the script #\n",
    "\n",
    "!cat plot_polytrope.py"
   ]
  },
  {
   "cell_type": "code",
   "execution_count": null,
   "id": "9798a404-4f48-46f7-8771-f433baf018a0",
   "metadata": {},
   "outputs": [],
   "source": [
    "# run this cell to execute the script #\n",
    "\n",
    "!python3.9 plot_polytrope.py -h"
   ]
  },
  {
   "cell_type": "code",
   "execution_count": null,
   "id": "2e34525c-5ecf-4d4b-9fae-c2b6b08a5de7",
   "metadata": {},
   "outputs": [],
   "source": [
    "# run this cell to execute the script #\n",
    "\n",
    "!python3.9 plot_polytrope.py n??.data"
   ]
  },
  {
   "cell_type": "code",
   "execution_count": null,
   "id": "45170cb7-30b0-4d6b-9d02-03b75195817c",
   "metadata": {},
   "outputs": [],
   "source": [
    "# show newly created files #\n",
    "\n",
    "!ls -lF polytrope_*.png"
   ]
  },
  {
   "cell_type": "code",
   "execution_count": null,
   "id": "a5389a05-c917-4363-88b8-8ef79864d5ad",
   "metadata": {},
   "outputs": [],
   "source": [
    "# run this cell to display the plot #\n",
    "\n",
    "import IPython.display\n",
    "\n",
    "IPython.display.Image ('polytrope_density.png')"
   ]
  },
  {
   "cell_type": "code",
   "execution_count": null,
   "id": "175964b7-41c2-4ae5-a06b-427500ef5059",
   "metadata": {},
   "outputs": [],
   "source": [
    "# run this cell to display the plot #\n",
    "\n",
    "import IPython.display\n",
    "\n",
    "IPython.display.Image ('polytrope_pressure.png')"
   ]
  },
  {
   "cell_type": "code",
   "execution_count": null,
   "id": "240d4dcf-cded-460c-8847-b8cc3d24f4a9",
   "metadata": {},
   "outputs": [],
   "source": [
    "# run this cell to display the plot #\n",
    "\n",
    "import IPython.display\n",
    "\n",
    "IPython.display.Image ('polytrope_temperature.png')"
   ]
  },
  {
   "cell_type": "markdown",
   "id": "b518296b-4008-4701-a0cd-4f725ba9b785",
   "metadata": {},
   "source": [
    "## end of this notebook ##"
   ]
  },
  {
   "cell_type": "code",
   "execution_count": null,
   "id": "c6d766a9-3090-406e-a150-7940be897b0c",
   "metadata": {},
   "outputs": [],
   "source": []
  }
 ],
 "metadata": {
  "kernelspec": {
   "display_name": "Python 3 (ipykernel)",
   "language": "python",
   "name": "python3"
  },
  "language_info": {
   "codemirror_mode": {
    "name": "ipython",
    "version": 3
   },
   "file_extension": ".py",
   "mimetype": "text/x-python",
   "name": "python",
   "nbconvert_exporter": "python",
   "pygments_lexer": "ipython3",
   "version": "3.9.14"
  }
 },
 "nbformat": 4,
 "nbformat_minor": 5
}
