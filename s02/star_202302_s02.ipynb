{
 "cells": [
  {
   "cell_type": "markdown",
   "id": "acf921e5-0358-4105-bdb2-b12bc8e5064f",
   "metadata": {},
   "source": [
    "# Stellar Formation and Evolution #\n",
    "\n",
    "## second semester, academic year 2022 ##\n",
    "\n",
    "## Institute of Astronomy, National Central University ##\n",
    "\n",
    "## session 02 ##\n",
    "\n",
    "## Kinoshita Daisuke ##"
   ]
  },
  {
   "cell_type": "markdown",
   "id": "7f0ce506-351e-48b8-9ff9-8fd879da5671",
   "metadata": {},
   "source": [
    "### sample script 00 ###"
   ]
  },
  {
   "cell_type": "code",
   "execution_count": null,
   "id": "32f87de3-2243-48c8-99ce-5e1eedbd45a6",
   "metadata": {},
   "outputs": [],
   "source": [
    "# run this cell to show the source code #\n",
    "\n",
    "!cat star_202302_s02_00.py"
   ]
  },
  {
   "cell_type": "code",
   "execution_count": null,
   "id": "5f2f613c-8787-4e9f-9933-91c4055d36d9",
   "metadata": {},
   "outputs": [],
   "source": [
    "# run this cell to execute the script #\n",
    "\n",
    "!python3.9 star_202302_s02_00.py"
   ]
  },
  {
   "cell_type": "markdown",
   "id": "bd6fdea9-d89c-4f7d-9467-0c09ab679458",
   "metadata": {},
   "source": [
    "### sample script 01 ###"
   ]
  },
  {
   "cell_type": "code",
   "execution_count": null,
   "id": "b00cf148-f489-4192-8e0c-9a3a5b78eea6",
   "metadata": {},
   "outputs": [],
   "source": [
    "# run this cell to show the source code #\n",
    "\n",
    "!cat star_202302_s02_01.py"
   ]
  },
  {
   "cell_type": "code",
   "execution_count": null,
   "id": "88656899-ab2d-4f38-a686-ca48b4ece6f1",
   "metadata": {},
   "outputs": [],
   "source": [
    "# run this cell to execute the script #\n",
    "\n",
    "!python3.9 star_202302_s02_01.py"
   ]
  },
  {
   "cell_type": "markdown",
   "id": "c616fcf5-03c8-42cd-a112-e9478a00af61",
   "metadata": {},
   "source": [
    "### sample script 02 ###"
   ]
  },
  {
   "cell_type": "code",
   "execution_count": null,
   "id": "f56409d8-392e-4665-8be4-58dfd6eee69f",
   "metadata": {},
   "outputs": [],
   "source": [
    "# run this cell to show the source code #\n",
    "\n",
    "!cat star_202302_s02_02.py"
   ]
  },
  {
   "cell_type": "code",
   "execution_count": null,
   "id": "02ea8348-0873-462a-a299-7980a2902dba",
   "metadata": {},
   "outputs": [],
   "source": [
    "# run this cell to execute the script #\n",
    "\n",
    "!python3.9 star_202302_s02_02.py"
   ]
  },
  {
   "cell_type": "markdown",
   "id": "38b93ecf-28f8-4cdc-a4d7-aada3805da25",
   "metadata": {},
   "source": [
    "### sample script 03 ###"
   ]
  },
  {
   "cell_type": "code",
   "execution_count": null,
   "id": "7e992eb8-c498-47f5-b83d-e6fe9ce34e62",
   "metadata": {},
   "outputs": [],
   "source": [
    "# run this cell to show the source code #\n",
    "\n",
    "!cat star_202302_s02_03.py"
   ]
  },
  {
   "cell_type": "code",
   "execution_count": null,
   "id": "413ef39b-be18-4b72-aca7-de5ea3707232",
   "metadata": {},
   "outputs": [],
   "source": [
    "# run this cell to execute the script #\n",
    "\n",
    "!python3.9 star_202302_s02_03.py"
   ]
  },
  {
   "cell_type": "markdown",
   "id": "8d4651b0-df84-456b-adcf-c29a1f074432",
   "metadata": {},
   "source": [
    "### sample script 04 ###"
   ]
  },
  {
   "cell_type": "code",
   "execution_count": null,
   "id": "0ff59153-740f-49d1-b0d7-541621082f34",
   "metadata": {},
   "outputs": [],
   "source": [
    "# run this cell to show the source code #\n",
    "\n",
    "!cat star_202302_s02_04.py"
   ]
  },
  {
   "cell_type": "code",
   "execution_count": null,
   "id": "458f4f14-6d5f-4832-8970-dcd82e085d9f",
   "metadata": {},
   "outputs": [],
   "source": [
    "# run this cell to execute the script #\n",
    "\n",
    "!python3.9 star_202302_s02_04.py"
   ]
  },
  {
   "cell_type": "markdown",
   "id": "28905672-f2c2-4274-9907-bb18c0197991",
   "metadata": {},
   "source": [
    "### sample script 05 ###"
   ]
  },
  {
   "cell_type": "code",
   "execution_count": null,
   "id": "dddfd98d-ba53-4421-8939-a846afb91b0e",
   "metadata": {},
   "outputs": [],
   "source": [
    "# run this cell to show the source code #\n",
    "\n",
    "!cat star_202302_s02_05.py"
   ]
  },
  {
   "cell_type": "code",
   "execution_count": null,
   "id": "28adb962-bd5f-4e30-9816-364d8af936d5",
   "metadata": {},
   "outputs": [],
   "source": [
    "# run this cell to execute the script #\n",
    "\n",
    "!python3.9 star_202302_s02_05.py"
   ]
  },
  {
   "cell_type": "markdown",
   "id": "e7eff1ff-6900-4c77-9cc3-ff4855865cfc",
   "metadata": {},
   "source": [
    "## end of this notebook ##"
   ]
  },
  {
   "cell_type": "code",
   "execution_count": null,
   "id": "6951210f-7dc6-48b4-8eba-e01c77190c2c",
   "metadata": {},
   "outputs": [],
   "source": []
  }
 ],
 "metadata": {
  "kernelspec": {
   "display_name": "Python 3 (ipykernel)",
   "language": "python",
   "name": "python3"
  },
  "language_info": {
   "codemirror_mode": {
    "name": "ipython",
    "version": 3
   },
   "file_extension": ".py",
   "mimetype": "text/x-python",
   "name": "python",
   "nbconvert_exporter": "python",
   "pygments_lexer": "ipython3",
   "version": "3.9.16"
  }
 },
 "nbformat": 4,
 "nbformat_minor": 5
}
