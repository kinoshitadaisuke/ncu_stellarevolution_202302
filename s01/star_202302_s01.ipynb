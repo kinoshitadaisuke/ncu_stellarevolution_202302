{
 "cells": [
  {
   "cell_type": "markdown",
   "id": "3c4a7013-de6c-43c3-aba5-4f5dc95083ba",
   "metadata": {},
   "source": [
    "# \"Stellar Formation and Evolution\" #"
   ]
  },
  {
   "cell_type": "markdown",
   "id": "0e8ee296-f25f-4219-8ab8-83077959f7c7",
   "metadata": {},
   "source": [
    "## Session 01 on 14/Feb/2023 ##"
   ]
  },
  {
   "cell_type": "markdown",
   "id": "8f9115ab-b86f-4acf-bbea-781c92903d12",
   "metadata": {},
   "source": [
    "### caculation of 1 parsec in metre ###"
   ]
  },
  {
   "cell_type": "code",
   "execution_count": null,
   "id": "10b607ff-29d4-4f71-b247-d48d8c8eb356",
   "metadata": {},
   "outputs": [],
   "source": [
    "# run this cell to show the source code #\n",
    "\n",
    "!cat star_202302_s01_00.py"
   ]
  },
  {
   "cell_type": "code",
   "execution_count": null,
   "id": "e0cac3d7-1a50-4876-8764-747e5f06f2e3",
   "metadata": {},
   "outputs": [],
   "source": [
    "# run this cell to execute the script #\n",
    "\n",
    "!python3.9 star_202302_s01_00.py"
   ]
  },
  {
   "cell_type": "markdown",
   "id": "b47c3164-a8e9-436b-9df1-04257851ea8e",
   "metadata": {},
   "source": [
    "### Distance to Proxima Centauri ###"
   ]
  },
  {
   "cell_type": "code",
   "execution_count": null,
   "id": "a77494e8-4fc8-43d2-b54c-073841ca6100",
   "metadata": {},
   "outputs": [],
   "source": [
    "# run this cell to show the source code #\n",
    "\n",
    "!cat star_202302_s01_01.py"
   ]
  },
  {
   "cell_type": "code",
   "execution_count": null,
   "id": "738a75ff-b7e7-440f-be70-849ff5df0387",
   "metadata": {},
   "outputs": [],
   "source": [
    "# run this cell to execute the script #\n",
    "\n",
    "!python3.9 star_202302_s01_01.py"
   ]
  },
  {
   "cell_type": "markdown",
   "id": "f0f41a7a-9d50-4563-924a-6cea268a35cb",
   "metadata": {},
   "source": [
    "### Distance to Vega ###"
   ]
  },
  {
   "cell_type": "code",
   "execution_count": null,
   "id": "82165dfd-9c75-420b-998e-d0b7ce93705a",
   "metadata": {},
   "outputs": [],
   "source": [
    "# run this cell to show the source code #\n",
    "\n",
    "!cat star_202302_s01_02.py"
   ]
  },
  {
   "cell_type": "code",
   "execution_count": null,
   "id": "4facf570-d0ed-4f76-ae6f-903e1f33091f",
   "metadata": {},
   "outputs": [],
   "source": [
    "# run this cell to execute the script #\n",
    "\n",
    "!python3.9 star_202302_s01_02.py"
   ]
  },
  {
   "cell_type": "markdown",
   "id": "0caa2fbd-aea2-478f-9d72-41a55e6a92d5",
   "metadata": {
    "tags": []
   },
   "source": [
    "# calculation of peak wavelength of T=3000 K blackbody radiation #"
   ]
  },
  {
   "cell_type": "code",
   "execution_count": null,
   "id": "d6af4089-73e8-4090-b539-222d1cb4a815",
   "metadata": {},
   "outputs": [],
   "source": [
    "# run this cell to show the source code #\n",
    "\n",
    "!cat star_202302_s01_03.py"
   ]
  },
  {
   "cell_type": "code",
   "execution_count": null,
   "id": "9a9cae65-7317-45f4-9f34-f03202457014",
   "metadata": {},
   "outputs": [],
   "source": [
    "# run this cell to execute the script #\n",
    "\n",
    "!python3.9 star_202302_s01_03.py"
   ]
  },
  {
   "cell_type": "markdown",
   "id": "630b19ee-9052-4f97-a73a-61339c4e55d5",
   "metadata": {
    "tags": []
   },
   "source": [
    "# calculation of peak wavelength of T=6000 K blackbody radiation #"
   ]
  },
  {
   "cell_type": "code",
   "execution_count": null,
   "id": "fd9b8d07-9726-4f28-8b58-59e1118f4107",
   "metadata": {},
   "outputs": [],
   "source": [
    "# run this cell to show the source code #\n",
    "\n",
    "!cat star_202302_s01_04.py"
   ]
  },
  {
   "cell_type": "code",
   "execution_count": null,
   "id": "5d224738-ba84-4bab-bff0-26b4db1eee14",
   "metadata": {},
   "outputs": [],
   "source": [
    "# run this cell to execute the script #\n",
    "\n",
    "!python3.9 star_202302_s01_04.py"
   ]
  },
  {
   "cell_type": "markdown",
   "id": "7b2089b7-0d4c-413c-83fd-d276e92561b6",
   "metadata": {
    "tags": []
   },
   "source": [
    "# calculation of peak wavelength of T=30000 K blackbody radiation #"
   ]
  },
  {
   "cell_type": "code",
   "execution_count": null,
   "id": "c8d9dadc-bf55-4c3f-89a5-e0e961b9b345",
   "metadata": {},
   "outputs": [],
   "source": [
    "# run this cell to show the source code #\n",
    "\n",
    "!cat star_202302_s01_05.py"
   ]
  },
  {
   "cell_type": "code",
   "execution_count": null,
   "id": "b03cffcf-4f20-4c27-95cb-66482ac83667",
   "metadata": {},
   "outputs": [],
   "source": [
    "# run this cell to execute the script #\n",
    "\n",
    "!python3.9 star_202302_s01_05.py"
   ]
  },
  {
   "cell_type": "markdown",
   "id": "c885e01d-3444-4176-b744-db93aa4a9f0d",
   "metadata": {
    "tags": []
   },
   "source": [
    "# calculation of raidus of Betelgeuse #"
   ]
  },
  {
   "cell_type": "code",
   "execution_count": null,
   "id": "324a5c58-156c-4d0d-ba52-76586046bb48",
   "metadata": {},
   "outputs": [],
   "source": [
    "# run this cell to show the source code #\n",
    "\n",
    "!cat star_202302_s01_06.py"
   ]
  },
  {
   "cell_type": "code",
   "execution_count": null,
   "id": "2e113141-4864-4fe1-84e9-40a92106809d",
   "metadata": {},
   "outputs": [],
   "source": [
    "# run this cell to execute the script #\n",
    "\n",
    "!python3.9 star_202302_s01_06.py"
   ]
  },
  {
   "cell_type": "markdown",
   "id": "2f994c45-fc37-4a80-b809-c1869bed6a78",
   "metadata": {
    "tags": []
   },
   "source": [
    "# calculation of raidus of a M-type dwarf #"
   ]
  },
  {
   "cell_type": "code",
   "execution_count": null,
   "id": "aeee1429-872b-46b7-b1f3-d1779eccd3fc",
   "metadata": {},
   "outputs": [],
   "source": [
    "# run this cell to show the source code #\n",
    "\n",
    "!cat star_202302_s01_07.py"
   ]
  },
  {
   "cell_type": "code",
   "execution_count": null,
   "id": "59316847-f926-4159-97ca-bf7d4b2c20e4",
   "metadata": {},
   "outputs": [],
   "source": [
    "# run this cell to execute the script #\n",
    "\n",
    "!python3.9 star_202302_s01_07.py"
   ]
  },
  {
   "cell_type": "markdown",
   "id": "ba09aad2-8007-44df-952a-53c8230f10cc",
   "metadata": {},
   "source": [
    "# end of this notebook #"
   ]
  },
  {
   "cell_type": "code",
   "execution_count": null,
   "id": "140579f5-b5c9-475a-9991-32fb12750b19",
   "metadata": {},
   "outputs": [],
   "source": []
  }
 ],
 "metadata": {
  "kernelspec": {
   "display_name": "Python 3 (ipykernel)",
   "language": "python",
   "name": "python3"
  },
  "language_info": {
   "codemirror_mode": {
    "name": "ipython",
    "version": 3
   },
   "file_extension": ".py",
   "mimetype": "text/x-python",
   "name": "python",
   "nbconvert_exporter": "python",
   "pygments_lexer": "ipython3",
   "version": "3.9.14"
  }
 },
 "nbformat": 4,
 "nbformat_minor": 5
}
