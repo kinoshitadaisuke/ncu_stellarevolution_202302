{
 "cells": [
  {
   "cell_type": "markdown",
   "id": "nasty-moisture",
   "metadata": {},
   "source": [
    "# Stellar Formation and Evolution #\n",
    "\n",
    "## 2nd semester, academic year 2022 ##\n",
    "\n",
    "## from Feb/2023 to Jun/2023 ##\n",
    "\n",
    "## Session 10 ##\n",
    "\n",
    "## Kinoshita Daisuke ##\n",
    "\n",
    "## 2 May 2023 ##"
   ]
  },
  {
   "cell_type": "markdown",
   "id": "frank-volume",
   "metadata": {},
   "source": [
    "## Regions of physical states ##"
   ]
  },
  {
   "cell_type": "code",
   "execution_count": null,
   "id": "local-attention",
   "metadata": {},
   "outputs": [],
   "source": [
    "# run this cell to show the source code of the script #\n",
    "\n",
    "!cat rho_T_state.py"
   ]
  },
  {
   "cell_type": "code",
   "execution_count": null,
   "id": "useful-lunch",
   "metadata": {},
   "outputs": [],
   "source": [
    "# run this cell to execute the script #\n",
    "\n",
    "!python3.9 rho_T_state.py"
   ]
  },
  {
   "cell_type": "code",
   "execution_count": null,
   "id": "serial-conference",
   "metadata": {},
   "outputs": [],
   "source": [
    "# run this cell to show newly created files #\n",
    "\n",
    "!ls -F"
   ]
  },
  {
   "cell_type": "code",
   "execution_count": null,
   "id": "floral-finger",
   "metadata": {},
   "outputs": [],
   "source": [
    "# run this cell to display PNG file #\n",
    "\n",
    "import IPython.display\n",
    "\n",
    "IPython.display.Image ('rho_T_state.png')"
   ]
  },
  {
   "cell_type": "markdown",
   "id": "induced-tobacco",
   "metadata": {},
   "source": [
    "## Evolution of centre of stars ##"
   ]
  },
  {
   "cell_type": "code",
   "execution_count": null,
   "id": "innovative-fellow",
   "metadata": {},
   "outputs": [],
   "source": [
    "# run this cell to show the source code of the script #\n",
    "\n",
    "!cat rho_T_evolution_ideal.py"
   ]
  },
  {
   "cell_type": "code",
   "execution_count": null,
   "id": "nuclear-static",
   "metadata": {},
   "outputs": [],
   "source": [
    "# run this cell to execute the script #\n",
    "\n",
    "!python3.9 rho_T_evolution_ideal.py"
   ]
  },
  {
   "cell_type": "code",
   "execution_count": null,
   "id": "gross-complexity",
   "metadata": {},
   "outputs": [],
   "source": [
    "# run this cell to show newly created files #\n",
    "\n",
    "!ls -F"
   ]
  },
  {
   "cell_type": "code",
   "execution_count": null,
   "id": "square-multiple",
   "metadata": {},
   "outputs": [],
   "source": [
    "# run this cell to display PNG file #\n",
    "\n",
    "import IPython.display\n",
    "\n",
    "IPython.display.Image ('rho_T_evo_ideal.png')"
   ]
  },
  {
   "cell_type": "markdown",
   "id": "vulnerable-stadium",
   "metadata": {},
   "source": [
    "## end of this notebook ##"
   ]
  },
  {
   "cell_type": "code",
   "execution_count": null,
   "id": "racial-poverty",
   "metadata": {},
   "outputs": [],
   "source": []
  }
 ],
 "metadata": {
  "kernelspec": {
   "display_name": "Python 3",
   "language": "python",
   "name": "python3"
  },
  "language_info": {
   "codemirror_mode": {
    "name": "ipython",
    "version": 3
   },
   "file_extension": ".py",
   "mimetype": "text/x-python",
   "name": "python",
   "nbconvert_exporter": "python",
   "pygments_lexer": "ipython3",
   "version": "3.9.2"
  }
 },
 "nbformat": 4,
 "nbformat_minor": 5
}
